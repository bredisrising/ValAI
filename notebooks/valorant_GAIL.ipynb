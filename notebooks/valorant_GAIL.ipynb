{
 "cells": [
  {
   "cell_type": "code",
   "execution_count": 1,
   "metadata": {},
   "outputs": [],
   "source": [
    "import pickle\n",
    "import torch\n",
    "from torch import nn\n",
    "import matplotlib.pyplot as plt\n",
    "from constants import *\n",
    "import numpy as np\n",
    "import cv2"
   ]
  },
  {
   "cell_type": "code",
   "execution_count": 6,
   "metadata": {},
   "outputs": [],
   "source": [
    "data11 = pickle.load(open(\"./val_range_data/data11.pkl\", \"rb\"))"
   ]
  },
  {
   "cell_type": "code",
   "execution_count": 7,
   "metadata": {},
   "outputs": [],
   "source": [
    "frames = []\n",
    "keyboard_data = []\n",
    "mouse_data = []\n",
    "cursor_positions = []\n",
    "reward = []\n",
    "for data in [data11]:\n",
    "    frames += data[0]\n",
    "    keyboard_data += data[1]\n",
    "    mouse_data += data[2]\n",
    "    cursor_positions += data[3]"
   ]
  },
  {
   "cell_type": "code",
   "execution_count": 8,
   "metadata": {},
   "outputs": [],
   "source": [
    "data = []\n",
    "rewards = []\n",
    "for i in range(1, len(keyboard_data)):\n",
    "    action = []\n",
    "    mouse_dx = 0\n",
    "    mouse_dy = 0\n",
    "    leftclick = 0\n",
    "    space = 0\n",
    "    w = 0\n",
    "    a = 0\n",
    "    s = 0\n",
    "    d = 0\n",
    "    shift = 0\n",
    "    ctrl = 0\n",
    "    reward = 0\n",
    "    for entry in mouse_data[i]:\n",
    "        mouse_dx += entry.lLastX\n",
    "        mouse_dy += entry.lLastY\n",
    "        \n",
    "        if entry.union.structure.usButtonFlags == 1 and leftclick == 0:\n",
    "            leftclick = 1\n",
    "        elif entry.union.structure.usButtonFlags == 2 and leftclick == 0:\n",
    "            leftclick = -1\n",
    "\n",
    "        if entry.union.structure.usButtonFlags == 0x0100 and reward == 0:\n",
    "            reward = 1\n",
    "        \n",
    "        if entry.union.structure.usButtonFlags == 0x0040 and reward == 0:\n",
    "            reward = -1\n",
    "        \n",
    "\n",
    "    for entry in keyboard_data[i]:\n",
    "\n",
    "        if entry[0] == 0x57: # W\n",
    "            if entry[1] == 1:\n",
    "                w = -1\n",
    "            elif entry[1] == 0:\n",
    "                w = 1\n",
    "\n",
    "        elif entry[0] == 0x41: # A\n",
    "            if entry[1] == 1:\n",
    "                a = -1\n",
    "            elif entry[1] == 0:\n",
    "                a = 1\n",
    "\n",
    "        elif entry[0] == 0x53: # S\n",
    "            if entry[1] == 1:\n",
    "                s = -1\n",
    "            elif entry[1] == 0:\n",
    "                s = 1\n",
    "\n",
    "        elif entry[0] == 0x44: # D\n",
    "            if entry[1] == 1:\n",
    "                d = -1\n",
    "            elif entry[1] == 0:\n",
    "                d = 1\n",
    "\n",
    "        elif entry[0] == 0x20: # Space\n",
    "            if entry[1] == 1:\n",
    "                space = -1\n",
    "            elif entry[1] == 0:\n",
    "                space = 1\n",
    "        \n",
    "        elif entry[0] == 0xA0: # Shift\n",
    "            if entry[1] == 1:\n",
    "                shift = -1\n",
    "            elif entry[1] == 0:\n",
    "                shift = 1\n",
    "\n",
    "        elif entry[0] == 0x11: # Ctrl\n",
    "            if entry[1] == 1:\n",
    "                ctrl = -1\n",
    "            elif entry[1] == 0:\n",
    "                ctrl = 1\n",
    "    \n",
    "    #print(mouse_dx, mouse_dy)\n",
    "    \n",
    "    # normalize \n",
    "    mag = (mouse_dx**2 + mouse_dy**2)**0.5\n",
    "    if mag != 0:\n",
    "        mouse_dx /= mag\n",
    "        mouse_dy /= mag\n",
    "\n",
    "    action.append(mouse_dx)\n",
    "    action.append(mouse_dy)\n",
    "    # action.append(w)\n",
    "    # action.append(a)\n",
    "    # action.append(s)\n",
    "    # action.append(d)\n",
    "    # action.append(space)\n",
    "    # action.append(shift)\n",
    "    # action.append(ctrl)\n",
    "    # action.append(leftclick)\n",
    "    # rewards.append(reward)\n",
    "    # action.append(cursor_positions[i+1][0]/1920-0.5)\n",
    "    # action.append(cursor_positions[i+1][1]/1080-0.5)\n",
    "    data.append(action)"
   ]
  },
  {
   "cell_type": "code",
   "execution_count": 9,
   "metadata": {},
   "outputs": [],
   "source": [
    "labels = np.array(data)"
   ]
  },
  {
   "cell_type": "code",
   "execution_count": 10,
   "metadata": {},
   "outputs": [
    {
     "name": "stdout",
     "output_type": "stream",
     "text": [
      "5001\r"
     ]
    }
   ],
   "source": [
    "# gray scale each image\n",
    "for i in range(len(frames)):\n",
    "    # convert from PIL image to cv2 image\n",
    "    img = np.array(frames[i])\n",
    "    # # scale down by 2\n",
    "    img = cv2.resize(img, (0,0), fx=0.5, fy=0.5)\n",
    "    # red channel only\n",
    "    img = img[:,:,0]\n",
    "\n",
    "    # # # canny edge detection\n",
    "    # # img = cv2.Canny(img, 100, 200)\n",
    "    \n",
    "    # # new_frames.append(img)\n",
    "    print(i, end='\\r')\n",
    "    frames[i] = img / 255"
   ]
  },
  {
   "cell_type": "code",
   "execution_count": 12,
   "metadata": {},
   "outputs": [
    {
     "data": {
      "text/plain": [
       "0.0"
      ]
     },
     "execution_count": 12,
     "metadata": {},
     "output_type": "execute_result"
    }
   ],
   "source": [
    "frames[0].min()"
   ]
  },
  {
   "cell_type": "code",
   "execution_count": 23,
   "metadata": {},
   "outputs": [],
   "source": [
    "class Discriminator(nn.Module):\n",
    "    def __init__(self):\n",
    "        super().__init__()\n",
    "        self.convs = nn.Sequential(\n",
    "            nn.Conv2d(1, 32, 3, padding=1),\n",
    "            nn.ReLU(),\n",
    "            nn.Conv2d(32, 32, 3, padding=1),\n",
    "            nn.ReLU(),\n",
    "            nn.MaxPool2d(2),\n",
    "            nn.Conv2d(32, 64, 3, padding=1),\n",
    "            nn.ReLU(),\n",
    "            nn.MaxPool2d(2),\n",
    "            nn.Conv2d(64, 64, 3, padding=1),\n",
    "            nn.ReLU(),\n",
    "            nn.MaxPool2d(2),\n",
    "            nn.Conv2d(64, 128, 3, padding=1),\n",
    "            nn.ReLU(),\n",
    "            nn.MaxPool2d(2),\n",
    "        )\n",
    "\n",
    "        self.fc = nn.Sequential(\n",
    "            nn.Flatten(),\n",
    "            nn.Linear(9216, 256),\n",
    "            nn.ReLU(),\n",
    "            nn.Linear(256, 256),\n",
    "            nn.ReLU(),\n",
    "            nn.Linear(256, 128),\n",
    "            nn.ReLU(),\n",
    "            nn.Linear(128, 64),\n",
    "            nn.ReLU(),\n",
    "        )\n",
    "\n",
    "        self.fc2 = nn.Sequential(\n",
    "            nn.Linear(66, 64),\n",
    "            nn.ReLU(),\n",
    "            nn.Linear(64, 15),\n",
    "            nn.ReLU(),\n",
    "            nn.Linear(15, 1),\n",
    "        )\n",
    "\n",
    "\n",
    "    def forward(self, state, action):\n",
    "        x = self.convs(state)\n",
    "\n",
    "        x = self.fc(x)\n",
    "\n",
    "        x = torch.cat((x, action), dim=1)\n",
    "        x = self.fc2(x)\n",
    "        return x"
   ]
  },
  {
   "cell_type": "code",
   "execution_count": 14,
   "metadata": {},
   "outputs": [],
   "source": [
    "class Generator(nn.Module):\n",
    "    def __init__(self):\n",
    "        super().__init__()\n",
    "        self.convs = nn.Sequential(\n",
    "            nn.Conv2d(1, 32, 3, padding=1),\n",
    "            nn.ReLU(),\n",
    "            nn.Conv2d(32, 32, 3, padding=1),\n",
    "            nn.ReLU(),\n",
    "            nn.MaxPool2d(2),\n",
    "            nn.Conv2d(32, 64, 3, padding=1),\n",
    "            nn.ReLU(),\n",
    "            nn.MaxPool2d(2),\n",
    "            nn.Conv2d(64, 64, 3, padding=1),\n",
    "            nn.ReLU(),\n",
    "            nn.MaxPool2d(2),\n",
    "            nn.Conv2d(64, 128, 3, padding=1),\n",
    "            nn.ReLU(),\n",
    "            nn.MaxPool2d(2),\n",
    "        )\n",
    "\n",
    "        self.fc = nn.Sequential(\n",
    "            nn.Flatten(),\n",
    "            nn.Linear(9216, 256),\n",
    "            nn.ReLU(),\n",
    "            nn.Linear(256, 256),\n",
    "            nn.ReLU(),\n",
    "            nn.Linear(256, 128),\n",
    "            nn.ReLU(),\n",
    "            nn.Linear(128, 64),\n",
    "            nn.ReLU(),\n",
    "        )\n",
    "\n",
    "        self.fc2 = nn.Sequential(\n",
    "            nn.Linear(64, 15),\n",
    "            nn.ReLU(),\n",
    "            nn.Linear(15, 2),\n",
    "        )\n",
    "    \n",
    "    def forward(self, state):\n",
    "        x = self.convs(state)\n",
    "\n",
    "        x = self.fc(x)\n",
    "\n",
    "        x = self.fc2(x)\n",
    "        return x"
   ]
  },
  {
   "cell_type": "code",
   "execution_count": 15,
   "metadata": {},
   "outputs": [],
   "source": [
    "class GAN():\n",
    "    def __init__(self):\n",
    "\n",
    "\n",
    "        self.discriminator = Discriminator()\n",
    "        self.generator = Generator()\n"
   ]
  },
  {
   "cell_type": "code",
   "execution_count": 24,
   "metadata": {},
   "outputs": [],
   "source": [
    "gan = GAN()\n",
    "doptim = torch.optim.Adam(gan.discriminator.parameters())\n",
    "goptim = torch.optim.Adam(gan.generator.parameters())\n",
    "dloss = nn.BCEWithLogitsLoss()\n",
    "glossfn = nn.BCEWithLogitsLoss()"
   ]
  },
  {
   "cell_type": "code",
   "execution_count": 17,
   "metadata": {},
   "outputs": [],
   "source": [
    "frames = np.array(frames, dtype=np.float32)\n",
    "labels = np.array(labels, dtype=np.float32)"
   ]
  },
  {
   "cell_type": "code",
   "execution_count": 63,
   "metadata": {},
   "outputs": [
    {
     "data": {
      "text/plain": [
       "(674, 10)"
      ]
     },
     "execution_count": 63,
     "metadata": {},
     "output_type": "execute_result"
    }
   ],
   "source": [
    "labels.shape"
   ]
  },
  {
   "cell_type": "code",
   "execution_count": 18,
   "metadata": {},
   "outputs": [],
   "source": [
    "BATCH_SIZE = 6"
   ]
  },
  {
   "cell_type": "code",
   "execution_count": 19,
   "metadata": {},
   "outputs": [
    {
     "data": {
      "text/plain": [
       "833"
      ]
     },
     "execution_count": 19,
     "metadata": {},
     "output_type": "execute_result"
    }
   ],
   "source": [
    "\n",
    "5000 // 6"
   ]
  },
  {
   "cell_type": "code",
   "execution_count": 25,
   "metadata": {},
   "outputs": [],
   "source": [
    "# move to cuda\n",
    "gan.discriminator = gan.discriminator.to('cuda')\n",
    "gan.generator = gan.generator.to('cuda')\n",
    "dloss = dloss.to('cuda')\n",
    "glossfn = glossfn.to('cuda')"
   ]
  },
  {
   "cell_type": "code",
   "execution_count": 30,
   "metadata": {},
   "outputs": [
    {
     "name": "stdout",
     "output_type": "stream",
     "text": [
      "0 296 2.3540124893188477 0.22729119658470154 0.101694568991661072\r"
     ]
    },
    {
     "ename": "KeyboardInterrupt",
     "evalue": "",
     "output_type": "error",
     "traceback": [
      "\u001b[1;31m---------------------------------------------------------------------------\u001b[0m",
      "\u001b[1;31mKeyboardInterrupt\u001b[0m                         Traceback (most recent call last)",
      "Cell \u001b[1;32mIn[30], line 41\u001b[0m\n\u001b[0;32m     37\u001b[0m goptim\u001b[38;5;241m.\u001b[39mstep()\n\u001b[0;32m     40\u001b[0m \u001b[38;5;66;03m# print losses\u001b[39;00m\n\u001b[1;32m---> 41\u001b[0m \u001b[38;5;28mprint\u001b[39m(epoch, i, gloss_val\u001b[38;5;241m.\u001b[39mitem(), \u001b[43mdreal_loss\u001b[49m\u001b[38;5;241;43m.\u001b[39;49m\u001b[43mitem\u001b[49m\u001b[43m(\u001b[49m\u001b[43m)\u001b[49m, dfake_loss\u001b[38;5;241m.\u001b[39mitem(), end\u001b[38;5;241m=\u001b[39m\u001b[38;5;124m\"\u001b[39m\u001b[38;5;130;01m\\r\u001b[39;00m\u001b[38;5;124m\"\u001b[39m)\n\u001b[0;32m     43\u001b[0m \u001b[38;5;66;03m# avg_loss = sum(losses) / len(losses)\u001b[39;00m\n\u001b[0;32m     44\u001b[0m \u001b[38;5;66;03m# #print(epoch, i, l.item()*100, end=\"\\r\")\u001b[39;00m\n\u001b[0;32m     45\u001b[0m \u001b[38;5;66;03m# print(epoch, i, l.item()*100, avg_loss*100, end=\"\\r\")\u001b[39;00m\n",
      "\u001b[1;31mKeyboardInterrupt\u001b[0m: "
     ]
    }
   ],
   "source": [
    "for epoch in range(750):\n",
    "    for i in range(833):\n",
    "        img = frames[i*BATCH_SIZE:i*BATCH_SIZE+BATCH_SIZE]\n",
    "        real_actions = labels[i*BATCH_SIZE:i*BATCH_SIZE+BATCH_SIZE]\n",
    "        \n",
    "\n",
    "        img = torch.tensor(img).unsqueeze(1).float()\n",
    "        real_actions = torch.tensor(real_actions).squeeze().float()\n",
    "        \n",
    "        #print(img.shape)\n",
    "        # move to cuda\n",
    "        img = img.to('cuda')\n",
    "        real_actions = real_actions.to('cuda')\n",
    "\n",
    "\n",
    "        # train discriminator\n",
    "        for j in range(1):\n",
    "            doptim.zero_grad()\n",
    "            real = gan.discriminator(img, real_actions)\n",
    "            dreal_loss = dloss(real, torch.ones_like(real))\n",
    "            dreal_loss.backward()\n",
    "\n",
    "            fake_actions = gan.generator(img)\n",
    "            fake = gan.discriminator(img, fake_actions)\n",
    "            dfake_loss = dloss(fake, torch.zeros_like(fake))\n",
    "            dfake_loss.backward()\n",
    "\n",
    "            doptim.step()\n",
    "\n",
    "        # train generator\n",
    "\n",
    "        goptim.zero_grad()\n",
    "        fake_actions = gan.generator(img)\n",
    "        fake = gan.discriminator(img, fake_actions)\n",
    "        gloss_val = glossfn(fake, torch.ones_like(fake))\n",
    "        gloss_val.backward()\n",
    "        goptim.step()\n",
    "\n",
    "\n",
    "        # print losses\n",
    "        print(epoch, i, gloss_val.item(), dreal_loss.item(), dfake_loss.item(), end=\"\\r\")\n",
    "\n",
    "        # avg_loss = sum(losses) / len(losses)\n",
    "        # #print(epoch, i, l.item()*100, end=\"\\r\")\n",
    "        # print(epoch, i, l.item()*100, avg_loss*100, end=\"\\r\")"
   ]
  },
  {
   "cell_type": "code",
   "execution_count": 34,
   "metadata": {},
   "outputs": [
    {
     "name": "stdout",
     "output_type": "stream",
     "text": [
      "torch.Size([1, 1, 108, 192])\n",
      "tensor([[ 0.2265, -0.0269]], device='cuda:0', grad_fn=<AddmmBackward0>)\n",
      "tensor([0., 1.], device='cuda:0')\n"
     ]
    }
   ],
   "source": [
    "# evaluate\n",
    "img = frames[800]\n",
    "real_actions = labels[800]\n",
    "img = torch.tensor(img).unsqueeze(0).unsqueeze(0).float()\n",
    "print(img.shape)\n",
    "real_actions = torch.tensor(real_actions).squeeze().float()\n",
    "img = img.to('cuda')\n",
    "real_actions = real_actions.to('cuda')\n",
    "fake_actions = gan.generator(img)\n",
    "fake = gan.discriminator(img, fake_actions)\n",
    "print(fake_actions)\n",
    "print(real_actions)"
   ]
  }
 ],
 "metadata": {
  "kernelspec": {
   "display_name": "Python 3",
   "language": "python",
   "name": "python3"
  },
  "language_info": {
   "codemirror_mode": {
    "name": "ipython",
    "version": 3
   },
   "file_extension": ".py",
   "mimetype": "text/x-python",
   "name": "python",
   "nbconvert_exporter": "python",
   "pygments_lexer": "ipython3",
   "version": "3.11.2"
  }
 },
 "nbformat": 4,
 "nbformat_minor": 2
}
