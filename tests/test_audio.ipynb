{
 "cells": [
  {
   "cell_type": "code",
   "execution_count": 1,
   "metadata": {},
   "outputs": [],
   "source": [
    "import pyaudiowpatch as pyaudio\n",
    "import numpy as np"
   ]
  },
  {
   "cell_type": "code",
   "execution_count": null,
   "metadata": {},
   "outputs": [],
   "source": [
    "RATE    = 16000\n",
    "CHUNK   = 256\n",
    "\n",
    "\n",
    "p = pyaudio.PyAudio()\n",
    "wasapi_info = p.get_host_api_info_by_type(pyaudio.paWASAPI)\n",
    "default_speakers = p.get_device_info_by_index(wasapi_info[\"defaultOutputDevice\"])\n",
    "\n",
    "if not default_speakers[\"isLoopbackDevice\"]:\n",
    "    for loopback in p.get_loopback_device_info_generator():\n",
    "        \"\"\"\n",
    "        Try to find loopback device with same name(and [Loopback suffix]).\n",
    "        Unfortunately, this is the most adequate way at the moment.\n",
    "        \"\"\"\n",
    "        if default_speakers[\"name\"] in loopback[\"name\"]:\n",
    "            default_speakers = loopback\n",
    "            break\n",
    "    else:\n",
    "        exit()\n",
    "        \n",
    "print(f\"Recording from: ({default_speakers['index']}){default_speakers['name']}\")\n",
    "\n",
    "\n",
    "\n",
    "stream = p.open(format=pyaudio.paInt16, channels=default_speakers[\"maxInputChannels\"], rate=int(default_speakers[\"defaultSampleRate\"]), input=True, input_device_index=default_speakers[\"index\"], frames_per_buffer=CHUNK)\n",
    "\n",
    "for i in range(int(20*RATE/CHUNK)): #do this for 10 seconds\n",
    "    # print stream data here\n",
    "    data = np.fromstring(stream.read(CHUNK),dtype=np.int16)\n",
    "    peak=np.average(np.abs(data))*2\n",
    "    bars=\"#\"*int(50*peak/2**16)\n",
    "    print(\"%04d %05d %s\"%(i,peak,bars), end=\"\\r\")\n",
    "\n",
    "stream.stop_stream()\n",
    "stream.close()\n",
    "p.terminate()"
   ]
  }
 ],
 "metadata": {
  "kernelspec": {
   "display_name": "Python 3",
   "language": "python",
   "name": "python3"
  },
  "language_info": {
   "codemirror_mode": {
    "name": "ipython",
    "version": 3
   },
   "file_extension": ".py",
   "mimetype": "text/x-python",
   "name": "python",
   "nbconvert_exporter": "python",
   "pygments_lexer": "ipython3",
   "version": "3.11.2"
  }
 },
 "nbformat": 4,
 "nbformat_minor": 2
}
