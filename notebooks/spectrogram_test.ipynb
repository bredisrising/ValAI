{
 "cells": [
  {
   "cell_type": "code",
   "execution_count": 2,
   "metadata": {},
   "outputs": [],
   "source": [
    "import pyaudiowpatch as pyaudio\n",
    "import numpy as np"
   ]
  },
  {
   "cell_type": "code",
   "execution_count": 3,
   "metadata": {},
   "outputs": [
    {
     "name": "stdout",
     "output_type": "stream",
     "text": [
      "Recording from: (17)Speakers (PRO X Wireless Gaming Headset) [Loopback]\n"
     ]
    }
   ],
   "source": [
    "RATE = 16000\n",
    "CHUNK = 256\n",
    "\n",
    "pyaud = pyaudio.PyAudio()\n",
    "wasapi_info = pyaud.get_host_api_info_by_type(pyaudio.paWASAPI)\n",
    "default_speakers = pyaud.get_device_info_by_index(wasapi_info[\"defaultOutputDevice\"])\n",
    "\n",
    "if not default_speakers[\"isLoopbackDevice\"]:\n",
    "    for loopback in pyaud.get_loopback_device_info_generator():\n",
    "        \"\"\"\n",
    "        Try to find loopback device with same name(and [Loopback suffix]).\n",
    "        Unfortunately, this is the most adequate way at the moment.\n",
    "        \"\"\"\n",
    "        if default_speakers[\"name\"] in loopback[\"name\"]:\n",
    "            default_speakers = loopback\n",
    "            break\n",
    "    else:\n",
    "        exit()\n",
    "        \n",
    "print(f\"Recording from: ({default_speakers['index']}){default_speakers['name']}\")\n",
    "\n",
    "stream = pyaud.open(format=pyaudio.paInt16, channels=default_speakers[\"maxInputChannels\"], rate=int(default_speakers[\"defaultSampleRate\"]), input=True, input_device_index=default_speakers[\"index\"], frames_per_buffer=CHUNK)\n",
    "\n"
   ]
  },
  {
   "cell_type": "code",
   "execution_count": 4,
   "metadata": {},
   "outputs": [],
   "source": [
    "import matplotlib.pyplot as plt\n",
    "from scipy.signal import spectrogram"
   ]
  },
  {
   "cell_type": "code",
   "execution_count": 6,
   "metadata": {},
   "outputs": [
    {
     "ename": "OSError",
     "evalue": "[Errno -9988] Stream closed",
     "output_type": "error",
     "traceback": [
      "\u001b[1;31m---------------------------------------------------------------------------\u001b[0m",
      "\u001b[1;31mOSError\u001b[0m                                   Traceback (most recent call last)",
      "Cell \u001b[1;32mIn[6], line 3\u001b[0m\n\u001b[0;32m      1\u001b[0m frames \u001b[38;5;241m=\u001b[39m []\n\u001b[0;32m      2\u001b[0m \u001b[38;5;28;01mfor\u001b[39;00m i \u001b[38;5;129;01min\u001b[39;00m \u001b[38;5;28mrange\u001b[39m(\u001b[38;5;28mint\u001b[39m(RATE\u001b[38;5;241m/\u001b[39mCHUNK \u001b[38;5;241m*\u001b[39m \u001b[38;5;241m2\u001b[39m)):\n\u001b[1;32m----> 3\u001b[0m     data \u001b[38;5;241m=\u001b[39m \u001b[43mstream\u001b[49m\u001b[38;5;241;43m.\u001b[39;49m\u001b[43mread\u001b[49m\u001b[43m(\u001b[49m\u001b[43mCHUNK\u001b[49m\u001b[43m)\u001b[49m\n\u001b[0;32m      4\u001b[0m     frames\u001b[38;5;241m.\u001b[39mappend(np\u001b[38;5;241m.\u001b[39mfrombuffer(data, dtype\u001b[38;5;241m=\u001b[39mnp\u001b[38;5;241m.\u001b[39mint16))\n\u001b[0;32m      6\u001b[0m stream\u001b[38;5;241m.\u001b[39mstop_stream()\n",
      "File \u001b[1;32md:\\PythonLang\\Py3-11-2\\Lib\\site-packages\\pyaudiowpatch\\__init__.py:640\u001b[0m, in \u001b[0;36mStream.read\u001b[1;34m(self, num_frames, exception_on_overflow)\u001b[0m\n\u001b[0;32m    636\u001b[0m \u001b[38;5;28;01mif\u001b[39;00m \u001b[38;5;129;01mnot\u001b[39;00m \u001b[38;5;28mself\u001b[39m\u001b[38;5;241m.\u001b[39m_is_input:\n\u001b[0;32m    637\u001b[0m     \u001b[38;5;28;01mraise\u001b[39;00m \u001b[38;5;167;01mIOError\u001b[39;00m(\u001b[38;5;124m\"\u001b[39m\u001b[38;5;124mNot input stream\u001b[39m\u001b[38;5;124m\"\u001b[39m,\n\u001b[0;32m    638\u001b[0m                   paCanNotReadFromAnOutputOnlyStream)\n\u001b[1;32m--> 640\u001b[0m \u001b[38;5;28;01mreturn\u001b[39;00m \u001b[43mpa\u001b[49m\u001b[38;5;241;43m.\u001b[39;49m\u001b[43mread_stream\u001b[49m\u001b[43m(\u001b[49m\u001b[38;5;28;43mself\u001b[39;49m\u001b[38;5;241;43m.\u001b[39;49m\u001b[43m_stream\u001b[49m\u001b[43m,\u001b[49m\u001b[43m \u001b[49m\u001b[43mnum_frames\u001b[49m\u001b[43m,\u001b[49m\u001b[43m \u001b[49m\u001b[43mexception_on_overflow\u001b[49m\u001b[43m)\u001b[49m\n",
      "\u001b[1;31mOSError\u001b[0m: [Errno -9988] Stream closed"
     ]
    }
   ],
   "source": [
    "frames = []\n",
    "for i in range(int(RATE/CHUNK * 2)):\n",
    "    data = stream.read(CHUNK)\n",
    "    frames.append(np.frombuffer(data, dtype=np.int16))\n",
    "\n",
    "# stream.stop_stream()\n",
    "# stream.close()\n",
    "# pyaud.terminate()\n",
    "\n",
    "print('reached')\n",
    "\n",
    "audio_data = np.concatenate(frames)\n",
    "\n",
    "frequencies, times, Sxx = spectrogram(audio_data, fs=RATE, nperseg=CHUNK)\n",
    "plt.pcolormesh(times, frequencies, 10 * np.log10(Sxx))\n",
    "plt.ylabel('Frequency [Hz]')\n",
    "plt.xlabel('Time [sec]')\n",
    "plt.title('Spectrogram')\n",
    "plt.colorbar(label='Power/Frequency [dB/Hz]')\n",
    "plt.show()"
   ]
  },
  {
   "cell_type": "code",
   "execution_count": null,
   "metadata": {},
   "outputs": [],
   "source": []
  }
 ],
 "metadata": {
  "kernelspec": {
   "display_name": "Python 3",
   "language": "python",
   "name": "python3"
  },
  "language_info": {
   "codemirror_mode": {
    "name": "ipython",
    "version": 3
   },
   "file_extension": ".py",
   "mimetype": "text/x-python",
   "name": "python",
   "nbconvert_exporter": "python",
   "pygments_lexer": "ipython3",
   "version": "3.11.2"
  }
 },
 "nbformat": 4,
 "nbformat_minor": 2
}
